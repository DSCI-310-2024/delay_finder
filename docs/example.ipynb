{
    "cells": [
        {
            "cell_type": "markdown",
            "metadata": {},
            "source": [
                "# Example usage\n",
                "\n",
                "Here we will demonstate how to use `delay_finder` in a project.\n",
                "\n",
                "First, we'll import all of the functions of our package."
            ]
        },
        {
            "cell_type": "code",
            "execution_count": 2,
            "metadata": {},
            "outputs": [],
            "source": [
                "from delay_finder.data_split import data_split\n",
                "from delay_finder.filter_columns import filter_columns\n",
                "from delay_finder.load_and_save import load_data, save_model\n",
                "from delay_finder.make_histogram import make_histogram\n",
                "from delay_finder.read import read\n",
                "from delay_finder.replace_value import replace_value"
            ]
        },
        {
            "cell_type": "markdown",
            "metadata": {},
            "source": [
                "Note: All of our functions require importing the pandas library."
            ]
        },
        {
            "cell_type": "code",
            "execution_count": 9,
            "metadata": {},
            "outputs": [],
            "source": [
                "import pandas as pd"
            ]
        },
        {
            "cell_type": "markdown",
            "metadata": {},
            "source": [
                "## Reading in Data\n",
                "Our functions `load_data()` and `read()` can be used interchangeably to read a CSV file and return a pandas DataFrame, using the relative path of the CSV file.\n",
                "\n",
                "We'll load in some sample data using these functions."
            ]
        },
        {
            "cell_type": "code",
            "execution_count": 12,
            "metadata": {},
            "outputs": [
                {
                    "data": {
                        "text/html": [
                            "<div>\n",
                            "<style scoped>\n",
                            "    .dataframe tbody tr th:only-of-type {\n",
                            "        vertical-align: middle;\n",
                            "    }\n",
                            "\n",
                            "    .dataframe tbody tr th {\n",
                            "        vertical-align: top;\n",
                            "    }\n",
                            "\n",
                            "    .dataframe thead th {\n",
                            "        text-align: right;\n",
                            "    }\n",
                            "</style>\n",
                            "<table border=\"1\" class=\"dataframe\">\n",
                            "  <thead>\n",
                            "    <tr style=\"text-align: right;\">\n",
                            "      <th></th>\n",
                            "      <th>candy</th>\n",
                            "      <th>amount</th>\n",
                            "      <th>wrapper_colour</th>\n",
                            "    </tr>\n",
                            "  </thead>\n",
                            "  <tbody>\n",
                            "    <tr>\n",
                            "      <th>0</th>\n",
                            "      <td>kitkat</td>\n",
                            "      <td>4</td>\n",
                            "      <td>red</td>\n",
                            "    </tr>\n",
                            "    <tr>\n",
                            "      <th>1</th>\n",
                            "      <td>mars</td>\n",
                            "      <td>7</td>\n",
                            "      <td>black</td>\n",
                            "    </tr>\n",
                            "    <tr>\n",
                            "      <th>2</th>\n",
                            "      <td>snickers</td>\n",
                            "      <td>5</td>\n",
                            "      <td>brown</td>\n",
                            "    </tr>\n",
                            "    <tr>\n",
                            "      <th>3</th>\n",
                            "      <td>skittles</td>\n",
                            "      <td>3</td>\n",
                            "      <td>red</td>\n",
                            "    </tr>\n",
                            "    <tr>\n",
                            "      <th>4</th>\n",
                            "      <td>smarties</td>\n",
                            "      <td>9</td>\n",
                            "      <td>blue</td>\n",
                            "    </tr>\n",
                            "    <tr>\n",
                            "      <th>5</th>\n",
                            "      <td>aero</td>\n",
                            "      <td>2</td>\n",
                            "      <td>white</td>\n",
                            "    </tr>\n",
                            "    <tr>\n",
                            "      <th>6</th>\n",
                            "      <td>twix</td>\n",
                            "      <td>6</td>\n",
                            "      <td>black</td>\n",
                            "    </tr>\n",
                            "  </tbody>\n",
                            "</table>\n",
                            "</div>"
                        ],
                        "text/plain": [
                            "      candy  amount wrapper_colour\n",
                            "0    kitkat       4            red\n",
                            "1      mars       7          black\n",
                            "2  snickers       5          brown\n",
                            "3  skittles       3            red\n",
                            "4  smarties       9           blue\n",
                            "5      aero       2          white\n",
                            "6      twix       6          black"
                        ]
                    },
                    "execution_count": 12,
                    "metadata": {},
                    "output_type": "execute_result"
                }
            ],
            "source": [
                "df1 = load_data('candy_example_data.csv')\n",
                "df1"
            ]
        },
        {
            "cell_type": "code",
            "execution_count": 13,
            "metadata": {},
            "outputs": [
                {
                    "data": {
                        "text/html": [
                            "<div>\n",
                            "<style scoped>\n",
                            "    .dataframe tbody tr th:only-of-type {\n",
                            "        vertical-align: middle;\n",
                            "    }\n",
                            "\n",
                            "    .dataframe tbody tr th {\n",
                            "        vertical-align: top;\n",
                            "    }\n",
                            "\n",
                            "    .dataframe thead th {\n",
                            "        text-align: right;\n",
                            "    }\n",
                            "</style>\n",
                            "<table border=\"1\" class=\"dataframe\">\n",
                            "  <thead>\n",
                            "    <tr style=\"text-align: right;\">\n",
                            "      <th></th>\n",
                            "      <th>candy</th>\n",
                            "      <th>amount</th>\n",
                            "      <th>wrapper_colour</th>\n",
                            "    </tr>\n",
                            "  </thead>\n",
                            "  <tbody>\n",
                            "    <tr>\n",
                            "      <th>0</th>\n",
                            "      <td>kitkat</td>\n",
                            "      <td>4</td>\n",
                            "      <td>red</td>\n",
                            "    </tr>\n",
                            "    <tr>\n",
                            "      <th>1</th>\n",
                            "      <td>mars</td>\n",
                            "      <td>7</td>\n",
                            "      <td>black</td>\n",
                            "    </tr>\n",
                            "    <tr>\n",
                            "      <th>2</th>\n",
                            "      <td>snickers</td>\n",
                            "      <td>5</td>\n",
                            "      <td>brown</td>\n",
                            "    </tr>\n",
                            "    <tr>\n",
                            "      <th>3</th>\n",
                            "      <td>skittles</td>\n",
                            "      <td>3</td>\n",
                            "      <td>red</td>\n",
                            "    </tr>\n",
                            "    <tr>\n",
                            "      <th>4</th>\n",
                            "      <td>smarties</td>\n",
                            "      <td>9</td>\n",
                            "      <td>blue</td>\n",
                            "    </tr>\n",
                            "    <tr>\n",
                            "      <th>5</th>\n",
                            "      <td>aero</td>\n",
                            "      <td>2</td>\n",
                            "      <td>white</td>\n",
                            "    </tr>\n",
                            "    <tr>\n",
                            "      <th>6</th>\n",
                            "      <td>twix</td>\n",
                            "      <td>6</td>\n",
                            "      <td>black</td>\n",
                            "    </tr>\n",
                            "  </tbody>\n",
                            "</table>\n",
                            "</div>"
                        ],
                        "text/plain": [
                            "      candy  amount wrapper_colour\n",
                            "0    kitkat       4            red\n",
                            "1      mars       7          black\n",
                            "2  snickers       5          brown\n",
                            "3  skittles       3            red\n",
                            "4  smarties       9           blue\n",
                            "5      aero       2          white\n",
                            "6      twix       6          black"
                        ]
                    },
                    "execution_count": 13,
                    "metadata": {},
                    "output_type": "execute_result"
                }
            ],
            "source": [
                "df2 = read('candy_example_data.csv') #replace filename with the name of the file and its relative path\n",
                "df2"
            ]
        },
        {
            "cell_type": "markdown",
            "metadata": {},
            "source": [
                "## Filtering Data"
            ]
        },
        {
            "cell_type": "markdown",
            "metadata": {},
            "source": [
                "Our function `filtering data()` can be used to keep specified columns (and drop the rest) in a pandas DataFrame."
            ]
        },
        {
            "cell_type": "code",
            "execution_count": 14,
            "metadata": {},
            "outputs": [
                {
                    "data": {
                        "text/html": [
                            "<div>\n",
                            "<style scoped>\n",
                            "    .dataframe tbody tr th:only-of-type {\n",
                            "        vertical-align: middle;\n",
                            "    }\n",
                            "\n",
                            "    .dataframe tbody tr th {\n",
                            "        vertical-align: top;\n",
                            "    }\n",
                            "\n",
                            "    .dataframe thead th {\n",
                            "        text-align: right;\n",
                            "    }\n",
                            "</style>\n",
                            "<table border=\"1\" class=\"dataframe\">\n",
                            "  <thead>\n",
                            "    <tr style=\"text-align: right;\">\n",
                            "      <th></th>\n",
                            "      <th>candy</th>\n",
                            "      <th>amount</th>\n",
                            "    </tr>\n",
                            "  </thead>\n",
                            "  <tbody>\n",
                            "    <tr>\n",
                            "      <th>0</th>\n",
                            "      <td>kitkat</td>\n",
                            "      <td>4</td>\n",
                            "    </tr>\n",
                            "    <tr>\n",
                            "      <th>1</th>\n",
                            "      <td>mars</td>\n",
                            "      <td>7</td>\n",
                            "    </tr>\n",
                            "    <tr>\n",
                            "      <th>2</th>\n",
                            "      <td>snickers</td>\n",
                            "      <td>5</td>\n",
                            "    </tr>\n",
                            "    <tr>\n",
                            "      <th>3</th>\n",
                            "      <td>skittles</td>\n",
                            "      <td>3</td>\n",
                            "    </tr>\n",
                            "    <tr>\n",
                            "      <th>4</th>\n",
                            "      <td>smarties</td>\n",
                            "      <td>9</td>\n",
                            "    </tr>\n",
                            "    <tr>\n",
                            "      <th>5</th>\n",
                            "      <td>aero</td>\n",
                            "      <td>2</td>\n",
                            "    </tr>\n",
                            "    <tr>\n",
                            "      <th>6</th>\n",
                            "      <td>twix</td>\n",
                            "      <td>6</td>\n",
                            "    </tr>\n",
                            "  </tbody>\n",
                            "</table>\n",
                            "</div>"
                        ],
                        "text/plain": [
                            "      candy  amount\n",
                            "0    kitkat       4\n",
                            "1      mars       7\n",
                            "2  snickers       5\n",
                            "3  skittles       3\n",
                            "4  smarties       9\n",
                            "5      aero       2\n",
                            "6      twix       6"
                        ]
                    },
                    "execution_count": 14,
                    "metadata": {},
                    "output_type": "execute_result"
                }
            ],
            "source": [
                "filtered_df = filter_columns(df1, ['candy', 'amount'])\n",
                "filtered_df"
            ]
        },
        {
            "cell_type": "markdown",
            "metadata": {},
            "source": [
                "## Replacing a Value in a DataFrame"
            ]
        },
        {
            "cell_type": "markdown",
            "metadata": {},
            "source": [
                "Our function `replace_value()` can be used to replace a specified value in a pandas DataFrame with a new value."
            ]
        },
        {
            "cell_type": "code",
            "execution_count": 11,
            "metadata": {},
            "outputs": [
                {
                    "data": {
                        "text/html": [
                            "<div>\n",
                            "<style scoped>\n",
                            "    .dataframe tbody tr th:only-of-type {\n",
                            "        vertical-align: middle;\n",
                            "    }\n",
                            "\n",
                            "    .dataframe tbody tr th {\n",
                            "        vertical-align: top;\n",
                            "    }\n",
                            "\n",
                            "    .dataframe thead th {\n",
                            "        text-align: right;\n",
                            "    }\n",
                            "</style>\n",
                            "<table border=\"1\" class=\"dataframe\">\n",
                            "  <thead>\n",
                            "    <tr style=\"text-align: right;\">\n",
                            "      <th></th>\n",
                            "      <th>candy</th>\n",
                            "      <th>amount</th>\n",
                            "      <th>wrapper_colour</th>\n",
                            "    </tr>\n",
                            "  </thead>\n",
                            "  <tbody>\n",
                            "    <tr>\n",
                            "      <th>0</th>\n",
                            "      <td>kitkat</td>\n",
                            "      <td>11</td>\n",
                            "      <td>red</td>\n",
                            "    </tr>\n",
                            "    <tr>\n",
                            "      <th>1</th>\n",
                            "      <td>mars</td>\n",
                            "      <td>7</td>\n",
                            "      <td>black</td>\n",
                            "    </tr>\n",
                            "    <tr>\n",
                            "      <th>2</th>\n",
                            "      <td>snickers</td>\n",
                            "      <td>5</td>\n",
                            "      <td>brown</td>\n",
                            "    </tr>\n",
                            "    <tr>\n",
                            "      <th>3</th>\n",
                            "      <td>skittles</td>\n",
                            "      <td>3</td>\n",
                            "      <td>red</td>\n",
                            "    </tr>\n",
                            "    <tr>\n",
                            "      <th>4</th>\n",
                            "      <td>smarties</td>\n",
                            "      <td>9</td>\n",
                            "      <td>blue</td>\n",
                            "    </tr>\n",
                            "    <tr>\n",
                            "      <th>5</th>\n",
                            "      <td>aero</td>\n",
                            "      <td>2</td>\n",
                            "      <td>white</td>\n",
                            "    </tr>\n",
                            "    <tr>\n",
                            "      <th>6</th>\n",
                            "      <td>twix</td>\n",
                            "      <td>6</td>\n",
                            "      <td>black</td>\n",
                            "    </tr>\n",
                            "  </tbody>\n",
                            "</table>\n",
                            "</div>"
                        ],
                        "text/plain": [
                            "      candy  amount wrapper_colour\n",
                            "0    kitkat      11            red\n",
                            "1      mars       7          black\n",
                            "2  snickers       5          brown\n",
                            "3  skittles       3            red\n",
                            "4  smarties       9           blue\n",
                            "5      aero       2          white\n",
                            "6      twix       6          black"
                        ]
                    },
                    "execution_count": 11,
                    "metadata": {},
                    "output_type": "execute_result"
                }
            ],
            "source": [
                "# Replaces a value in a column with a new value in a pandas DataFrame. Returns a pandas DataFrame.\n",
                "\n",
                "df1_replace_kitkat_amount = replace_value(df1, 'amount', 4, 11)\n",
                "df1_replace_kitkat_amount"
            ]
        },
        {
            "cell_type": "markdown",
            "metadata": {},
            "source": [
                "## Splitting Data"
            ]
        },
        {
            "cell_type": "markdown",
            "metadata": {},
            "source": [
                "Our function `train_test_split()` can be used to split the input pandas DataFrame into training and testing sets with an 80/20 split. It also saves those sets to CSV files with the desired filenames.  \n",
                "This function requires importing scikit-learn's `train_test_split()` function."
            ]
        },
        {
            "cell_type": "code",
            "execution_count": 16,
            "metadata": {},
            "outputs": [],
            "source": [
                "from sklearn.model_selection import train_test_split\n",
                "\n",
                "data_split(df1, 'train_data.csv', 'test_data.csv')"
            ]
        },
        {
            "cell_type": "markdown",
            "metadata": {},
            "source": [
                "Let's view the resulting training and testing sets."
            ]
        },
        {
            "cell_type": "code",
            "execution_count": 18,
            "metadata": {},
            "outputs": [
                {
                    "data": {
                        "text/html": [
                            "<div>\n",
                            "<style scoped>\n",
                            "    .dataframe tbody tr th:only-of-type {\n",
                            "        vertical-align: middle;\n",
                            "    }\n",
                            "\n",
                            "    .dataframe tbody tr th {\n",
                            "        vertical-align: top;\n",
                            "    }\n",
                            "\n",
                            "    .dataframe thead th {\n",
                            "        text-align: right;\n",
                            "    }\n",
                            "</style>\n",
                            "<table border=\"1\" class=\"dataframe\">\n",
                            "  <thead>\n",
                            "    <tr style=\"text-align: right;\">\n",
                            "      <th></th>\n",
                            "      <th>candy</th>\n",
                            "      <th>amount</th>\n",
                            "      <th>wrapper_colour</th>\n",
                            "    </tr>\n",
                            "  </thead>\n",
                            "  <tbody>\n",
                            "    <tr>\n",
                            "      <th>0</th>\n",
                            "      <td>kitkat</td>\n",
                            "      <td>4</td>\n",
                            "      <td>red</td>\n",
                            "    </tr>\n",
                            "    <tr>\n",
                            "      <th>1</th>\n",
                            "      <td>snickers</td>\n",
                            "      <td>5</td>\n",
                            "      <td>brown</td>\n",
                            "    </tr>\n",
                            "    <tr>\n",
                            "      <th>2</th>\n",
                            "      <td>mars</td>\n",
                            "      <td>7</td>\n",
                            "      <td>black</td>\n",
                            "    </tr>\n",
                            "    <tr>\n",
                            "      <th>3</th>\n",
                            "      <td>twix</td>\n",
                            "      <td>6</td>\n",
                            "      <td>black</td>\n",
                            "    </tr>\n",
                            "    <tr>\n",
                            "      <th>4</th>\n",
                            "      <td>skittles</td>\n",
                            "      <td>3</td>\n",
                            "      <td>red</td>\n",
                            "    </tr>\n",
                            "  </tbody>\n",
                            "</table>\n",
                            "</div>"
                        ],
                        "text/plain": [
                            "      candy  amount wrapper_colour\n",
                            "0    kitkat       4            red\n",
                            "1  snickers       5          brown\n",
                            "2      mars       7          black\n",
                            "3      twix       6          black\n",
                            "4  skittles       3            red"
                        ]
                    },
                    "execution_count": 18,
                    "metadata": {},
                    "output_type": "execute_result"
                }
            ],
            "source": [
                "training_data = load_data('train_data.csv')\n",
                "training_data"
            ]
        },
        {
            "cell_type": "code",
            "execution_count": 19,
            "metadata": {},
            "outputs": [
                {
                    "data": {
                        "text/html": [
                            "<div>\n",
                            "<style scoped>\n",
                            "    .dataframe tbody tr th:only-of-type {\n",
                            "        vertical-align: middle;\n",
                            "    }\n",
                            "\n",
                            "    .dataframe tbody tr th {\n",
                            "        vertical-align: top;\n",
                            "    }\n",
                            "\n",
                            "    .dataframe thead th {\n",
                            "        text-align: right;\n",
                            "    }\n",
                            "</style>\n",
                            "<table border=\"1\" class=\"dataframe\">\n",
                            "  <thead>\n",
                            "    <tr style=\"text-align: right;\">\n",
                            "      <th></th>\n",
                            "      <th>candy</th>\n",
                            "      <th>amount</th>\n",
                            "      <th>wrapper_colour</th>\n",
                            "    </tr>\n",
                            "  </thead>\n",
                            "  <tbody>\n",
                            "    <tr>\n",
                            "      <th>0</th>\n",
                            "      <td>smarties</td>\n",
                            "      <td>9</td>\n",
                            "      <td>blue</td>\n",
                            "    </tr>\n",
                            "    <tr>\n",
                            "      <th>1</th>\n",
                            "      <td>aero</td>\n",
                            "      <td>2</td>\n",
                            "      <td>white</td>\n",
                            "    </tr>\n",
                            "  </tbody>\n",
                            "</table>\n",
                            "</div>"
                        ],
                        "text/plain": [
                            "      candy  amount wrapper_colour\n",
                            "0  smarties       9           blue\n",
                            "1      aero       2          white"
                        ]
                    },
                    "execution_count": 19,
                    "metadata": {},
                    "output_type": "execute_result"
                }
            ],
            "source": [
                "testing_data = load_data('test_data.csv')\n",
                "testing_data"
            ]
        },
        {
            "cell_type": "markdown",
            "metadata": {},
            "source": [
                "## Saving a Trained Model as a Pickle Object and File"
            ]
        },
        {
            "cell_type": "markdown",
            "metadata": {},
            "source": [
                "Our function `save_model()` will save a model as a pickle object and file. This function requires importing Python's pickle library.\n",
                "\n",
                "As an example, we will first make a dummy classifier. Then, we'll save that model to a pickle object using `save_model()`."
            ]
        },
        {
            "cell_type": "code",
            "execution_count": 24,
            "metadata": {},
            "outputs": [],
            "source": [
                "import pickle\n",
                "from sklearn.dummy import DummyClassifier\n",
                "\n",
                "dummy_classifier = DummyClassifier(strategy = \"stratified\", random_state = 12)\n",
                "model_pickle = save_model(dummy_classifier, 'example_pickle_model.pickle')"
            ]
        },
        {
            "cell_type": "markdown",
            "metadata": {},
            "source": [
                "## Histogram"
            ]
        },
        {
            "cell_type": "markdown",
            "metadata": {},
            "source": [
                "Our function `make_histogram()` can be used to make a histogram using a pandas DataFrame, the column name that will be on the x-axis, the x-axis title, and optionally the width and height of the desired histogram. This function requires importing the altair library and assumes that the y-axis denotes a number of flights."
            ]
        },
        {
            "cell_type": "code",
            "execution_count": 25,
            "metadata": {},
            "outputs": [
                {
                    "data": {
                        "text/html": [
                            "\n",
                            "<style>\n",
                            "  #altair-viz-c3ae9b38f4d9453db23765a9ee195440.vega-embed {\n",
                            "    width: 100%;\n",
                            "    display: flex;\n",
                            "  }\n",
                            "\n",
                            "  #altair-viz-c3ae9b38f4d9453db23765a9ee195440.vega-embed details,\n",
                            "  #altair-viz-c3ae9b38f4d9453db23765a9ee195440.vega-embed details summary {\n",
                            "    position: relative;\n",
                            "  }\n",
                            "</style>\n",
                            "<div id=\"altair-viz-c3ae9b38f4d9453db23765a9ee195440\"></div>\n",
                            "<script type=\"text/javascript\">\n",
                            "  var VEGA_DEBUG = (typeof VEGA_DEBUG == \"undefined\") ? {} : VEGA_DEBUG;\n",
                            "  (function(spec, embedOpt){\n",
                            "    let outputDiv = document.currentScript.previousElementSibling;\n",
                            "    if (outputDiv.id !== \"altair-viz-c3ae9b38f4d9453db23765a9ee195440\") {\n",
                            "      outputDiv = document.getElementById(\"altair-viz-c3ae9b38f4d9453db23765a9ee195440\");\n",
                            "    }\n",
                            "    const paths = {\n",
                            "      \"vega\": \"https://cdn.jsdelivr.net/npm/vega@5?noext\",\n",
                            "      \"vega-lib\": \"https://cdn.jsdelivr.net/npm/vega-lib?noext\",\n",
                            "      \"vega-lite\": \"https://cdn.jsdelivr.net/npm/vega-lite@5.16.3?noext\",\n",
                            "      \"vega-embed\": \"https://cdn.jsdelivr.net/npm/vega-embed@6?noext\",\n",
                            "    };\n",
                            "\n",
                            "    function maybeLoadScript(lib, version) {\n",
                            "      var key = `${lib.replace(\"-\", \"\")}_version`;\n",
                            "      return (VEGA_DEBUG[key] == version) ?\n",
                            "        Promise.resolve(paths[lib]) :\n",
                            "        new Promise(function(resolve, reject) {\n",
                            "          var s = document.createElement('script');\n",
                            "          document.getElementsByTagName(\"head\")[0].appendChild(s);\n",
                            "          s.async = true;\n",
                            "          s.onload = () => {\n",
                            "            VEGA_DEBUG[key] = version;\n",
                            "            return resolve(paths[lib]);\n",
                            "          };\n",
                            "          s.onerror = () => reject(`Error loading script: ${paths[lib]}`);\n",
                            "          s.src = paths[lib];\n",
                            "        });\n",
                            "    }\n",
                            "\n",
                            "    function showError(err) {\n",
                            "      outputDiv.innerHTML = `<div class=\"error\" style=\"color:red;\">${err}</div>`;\n",
                            "      throw err;\n",
                            "    }\n",
                            "\n",
                            "    function displayChart(vegaEmbed) {\n",
                            "      vegaEmbed(outputDiv, spec, embedOpt)\n",
                            "        .catch(err => showError(`Javascript Error: ${err.message}<br>This usually means there's a typo in your chart specification. See the javascript console for the full traceback.`));\n",
                            "    }\n",
                            "\n",
                            "    if(typeof define === \"function\" && define.amd) {\n",
                            "      requirejs.config({paths});\n",
                            "      require([\"vega-embed\"], displayChart, err => showError(`Error loading script: ${err.message}`));\n",
                            "    } else {\n",
                            "      maybeLoadScript(\"vega\", \"5\")\n",
                            "        .then(() => maybeLoadScript(\"vega-lite\", \"5.16.3\"))\n",
                            "        .then(() => maybeLoadScript(\"vega-embed\", \"6\"))\n",
                            "        .catch(showError)\n",
                            "        .then(() => displayChart(vegaEmbed));\n",
                            "    }\n",
                            "  })({\"config\": {\"view\": {\"continuousWidth\": 300, \"continuousHeight\": 300}}, \"data\": {\"name\": \"data-11f0ecfa743bfb22318217c371748c31\"}, \"mark\": {\"type\": \"bar\"}, \"encoding\": {\"x\": {\"bin\": {\"maxbins\": 30}, \"field\": \"amount\", \"title\": \"Amount\", \"type\": \"quantitative\"}, \"y\": {\"aggregate\": \"count\", \"title\": \"Number of Flights\", \"type\": \"quantitative\"}}, \"height\": 200, \"width\": 200, \"$schema\": \"https://vega.github.io/schema/vega-lite/v5.16.3.json\", \"datasets\": {\"data-11f0ecfa743bfb22318217c371748c31\": [{\"candy\": \"kitkat\", \"amount\": 4, \"wrapper_colour\": \"red\"}, {\"candy\": \"mars\", \"amount\": 7, \"wrapper_colour\": \"black\"}, {\"candy\": \"snickers\", \"amount\": 5, \"wrapper_colour\": \"brown\"}, {\"candy\": \"skittles\", \"amount\": 3, \"wrapper_colour\": \"red\"}, {\"candy\": \"smarties\", \"amount\": 9, \"wrapper_colour\": \"blue\"}, {\"candy\": \"aero\", \"amount\": 2, \"wrapper_colour\": \"white\"}, {\"candy\": \"twix\", \"amount\": 6, \"wrapper_colour\": \"black\"}]}}, {\"mode\": \"vega-lite\"});\n",
                            "</script>"
                        ],
                        "text/plain": [
                            "alt.Chart(...)"
                        ]
                    },
                    "execution_count": 25,
                    "metadata": {},
                    "output_type": "execute_result"
                }
            ],
            "source": [
                "import altair as alt\n",
                "\n",
                "amount_histogram = make_histogram(df1, 'amount', \"Amount\", w=200, h=200)\n",
                "amount_histogram"
            ]
        }
    ],
    "metadata": {
        "kernelspec": {
            "display_name": "Python 3",
            "language": "python",
            "name": "python3"
        },
        "language_info": {
            "codemirror_mode": {
                "name": "ipython",
                "version": 3
            },
            "file_extension": ".py",
            "mimetype": "text/x-python",
            "name": "python",
            "nbconvert_exporter": "python",
            "pygments_lexer": "ipython3",
            "version": "3.11.5"
        }
    },
    "nbformat": 4,
    "nbformat_minor": 4
}
